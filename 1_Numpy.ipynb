{
 "cells": [
  {
   "cell_type": "code",
   "execution_count": 1,
   "metadata": {},
   "outputs": [],
   "source": [
    "import numpy as np"
   ]
  },
  {
   "cell_type": "code",
   "execution_count": 12,
   "metadata": {},
   "outputs": [
    {
     "name": "stdout",
     "output_type": "stream",
     "text": [
      "<class 'numpy.ndarray'>\n",
      "(3,)\n",
      "<class 'numpy.ndarray'>\n",
      "(2, 3)\n",
      "<class 'numpy.ndarray'>\n",
      "(1, 3)\n"
     ]
    }
   ],
   "source": [
    "arr1 = np.array([1,2,3]) #리스트와 같은 다양한 인자를 입력받아서 ndarray로 변환\n",
    "print(type(arr1))\n",
    "print(arr1.shape) #1차원\n",
    "\n",
    "arr2 = np.array([[1,2,3],\n",
    "                 [4,5,6]])\n",
    "print(type(arr2))\n",
    "print(arr2.shape) #2차원, 2행 3열\n",
    "\n",
    "arr3 = np.array([[1,2,3]])\n",
    "print(type(arr3))\n",
    "print(arr3.shape) #2차원, 1행"
   ]
  },
  {
   "cell_type": "code",
   "execution_count": 17,
   "metadata": {},
   "outputs": [
    {
     "name": "stdout",
     "output_type": "stream",
     "text": [
      "<class 'list'>\n",
      "[1 2 3] int32\n"
     ]
    }
   ],
   "source": [
    "list = [1,2,3]\n",
    "print(type(list))\n",
    "arr4 = np.array(list)\n",
    "print(arr4, arr4.dtype) #dtype은 ndarray내 데이터타입확인"
   ]
  },
  {
   "cell_type": "code",
   "execution_count": 20,
   "metadata": {},
   "outputs": [
    {
     "name": "stdout",
     "output_type": "stream",
     "text": [
      "['1' '2' 'apple'] <U11\n"
     ]
    }
   ],
   "source": [
    "list2 = [1,2,'apple']\n",
    "arr5 = np.array(list2)\n",
    "print(arr5, arr5.dtype) #int형 1과 2가 모두 문자형으로 변환\n",
    "#np.array함수 실행 시 서로 다른 데이터 타입이 섞여 있을 경우 타입이 더 큰 데이터 타입으로 변환. "
   ]
  },
  {
   "cell_type": "code",
   "execution_count": 28,
   "metadata": {},
   "outputs": [
    {
     "name": "stdout",
     "output_type": "stream",
     "text": [
      "[1. 2. 3.] float64\n"
     ]
    }
   ],
   "source": [
    "array_int = np.array([1,2,3])\n",
    "array_float = array_int.astype('float64') #ndarray속 변수들의 형태를 변경\n",
    "print(array_float, array_float.dtype)"
   ]
  },
  {
   "cell_type": "code",
   "execution_count": 32,
   "metadata": {
    "scrolled": true
   },
   "outputs": [
    {
     "name": "stdout",
     "output_type": "stream",
     "text": [
      "[0 1 2 3 4 5 6 7 8 9]\n",
      "int32 (10,)\n"
     ]
    }
   ],
   "source": [
    "sequence_array = np.arange(10) #array를 range()로 표현하는 것\n",
    "print(sequence_array) \n",
    "print(sequence_array.dtype, sequence_array.shape)"
   ]
  },
  {
   "cell_type": "code",
   "execution_count": 42,
   "metadata": {},
   "outputs": [
    {
     "name": "stdout",
     "output_type": "stream",
     "text": [
      "[[0 0]\n",
      " [0 0]\n",
      " [0 0]]\n",
      "int32 (3, 2)\n",
      "[[1. 1.]\n",
      " [1. 1.]\n",
      " [1. 1.]]\n",
      "float64 (3, 2)\n"
     ]
    }
   ],
   "source": [
    "zero_array = np.zeros((3,2), dtype='int32') #모든 값을 0으로 채운 행렬 생성 \n",
    "print(zero_array)\n",
    "print(zero_array.dtype,zero_array.shape)\n",
    "\n",
    "one_array = np.ones((3,2)) #모든 값을 1로 채운 행렬 생성\n",
    "print(one_array)\n",
    "print(one_array.dtype, one_array.shape)"
   ]
  },
  {
   "cell_type": "code",
   "execution_count": 62,
   "metadata": {},
   "outputs": [
    {
     "name": "stdout",
     "output_type": "stream",
     "text": [
      "[[0 1 2 3 4]\n",
      " [5 6 7 8 9]]\n",
      "[[0 1]\n",
      " [2 3]\n",
      " [4 5]\n",
      " [6 7]\n",
      " [8 9]]\n",
      "[[0 1]\n",
      " [2 3]\n",
      " [4 5]\n",
      " [6 7]\n",
      " [8 9]]\n"
     ]
    }
   ],
   "source": [
    "array = np.arange(10) \n",
    "array2 = array.reshape(2,5)#darray를 특정 차원 및 크기로 변환 \n",
    "print(array2)\n",
    "\n",
    "array3 = array.reshape(5,2)\n",
    "print(array3)\n",
    "\n",
    "array4 = array.reshape(-1,2) #인자를 -1로 쓰면 원래ndarray와 호환되는 shape로 변환해준다.\n",
    "print(array4)"
   ]
  },
  {
   "cell_type": "markdown",
   "metadata": {},
   "source": [
    "인덱싱[Indexing]"
   ]
  },
  {
   "cell_type": "code",
   "execution_count": 68,
   "metadata": {},
   "outputs": [
    {
     "name": "stdout",
     "output_type": "stream",
     "text": [
      "3\n",
      "9\n"
     ]
    }
   ],
   "source": [
    "arr = np.arange(1,10)\n",
    "value = arr[2]\n",
    "print(value)\n",
    "value2 = arr[-1] #뒤에서부터 인덱싱\n",
    "print(value2)"
   ]
  },
  {
   "cell_type": "code",
   "execution_count": 77,
   "metadata": {},
   "outputs": [
    {
     "name": "stdout",
     "output_type": "stream",
     "text": [
      "1 4\n"
     ]
    }
   ],
   "source": [
    "array1d = np.arange(1, 10)\n",
    "array2d = array1d.reshape(3,3)\n",
    "value1 = array2d[0,0] #다차원에서 인덱싱\n",
    "value2 = array2d[1,0]\n",
    "print(value1, value2)\n",
    "\n",
    "#axis 0는 행방향, axis 1은 열방향을 의미한다."
   ]
  },
  {
   "cell_type": "code",
   "execution_count": 80,
   "metadata": {},
   "outputs": [
    {
     "data": {
      "text/plain": [
       "array([1, 2, 3, 4, 5])"
      ]
     },
     "execution_count": 80,
     "metadata": {},
     "output_type": "execute_result"
    }
   ],
   "source": [
    "arr = np.arange(1,10)\n",
    "values = arr[0:5]#슬라이싱\n",
    "values"
   ]
  },
  {
   "cell_type": "code",
   "execution_count": 85,
   "metadata": {},
   "outputs": [
    {
     "name": "stdout",
     "output_type": "stream",
     "text": [
      "[[1 2]\n",
      " [4 5]]\n",
      "[1 2 3]\n",
      "[4 5 6]\n"
     ]
    }
   ],
   "source": [
    "arr = np.arange(1, 10)\n",
    "arr2 = arr.reshape(3,3)\n",
    "values = arr2[0:2, 0:2] #다차원 슬라이싱은 axis 0부터 한 뒤 axis 1까지 슬라이싱 하는 것이다.\n",
    "print(values)\n",
    "\n",
    "print(arr2[0]) #첫번째 로우를 전부 반환한다.\n",
    "print(arr2[1])"
   ]
  },
  {
   "cell_type": "code",
   "execution_count": 88,
   "metadata": {},
   "outputs": [
    {
     "name": "stdout",
     "output_type": "stream",
     "text": [
      "[6 7 8 9]\n"
     ]
    }
   ],
   "source": [
    "#불린 인덱싱은 조건 필터링과 검색을 동시에 할 수 있기 때문에 매우 자주 사용되는 인덱싱 방식이다.\n",
    "array1d = np.arange(1,10)\n",
    "arrBool = array1d[array1d>5] #5보다 큰 값만 저장\n",
    "print(arrBool)"
   ]
  },
  {
   "cell_type": "markdown",
   "metadata": {},
   "source": [
    "행렬의 정렬(sort()와 argsort())"
   ]
  },
  {
   "cell_type": "code",
   "execution_count": 92,
   "metadata": {},
   "outputs": [
    {
     "data": {
      "text/plain": [
       "array([1, 3, 5, 6])"
      ]
     },
     "execution_count": 92,
     "metadata": {},
     "output_type": "execute_result"
    }
   ],
   "source": [
    "org_array = np.array([3,1,9,5])\n",
    "org_array2 = np.array([5,3,6,1])\n",
    "SortedArray = np.sort(org_array) #org_array를 sorting하고 반환\n",
    "org_array2.sort() #org_array2자체를 sorting한다"
   ]
  },
  {
   "cell_type": "code",
   "execution_count": 99,
   "metadata": {},
   "outputs": [
    {
     "name": "stdout",
     "output_type": "stream",
     "text": [
      "[[0 1]\n",
      " [1 0]]\n"
     ]
    },
    {
     "data": {
      "text/plain": [
       "array([[ 1,  7],\n",
       "       [ 8, 12]])"
      ]
     },
     "execution_count": 99,
     "metadata": {},
     "output_type": "execute_result"
    }
   ],
   "source": [
    "array2d = np.array([[8,12],\n",
    "                   [7,1]])\n",
    "\n",
    "array2d.sort(axis=0) #row방향으로 sorting\n",
    "array2d.sort(axis=1) #col방향으로 sorting\n",
    "\n",
    "print(array2d_index)\n",
    "\n",
    "array2d"
   ]
  },
  {
   "cell_type": "code",
   "execution_count": 101,
   "metadata": {},
   "outputs": [
    {
     "name": "stdout",
     "output_type": "stream",
     "text": [
      "[2 1 0]\n"
     ]
    }
   ],
   "source": [
    "arr = np.array([3,2,1])\n",
    "array2d_index = np.argsort(arr)#정렬된 순서의 index를 반환한다.\n",
    "print(array2d_index)"
   ]
  },
  {
   "cell_type": "markdown",
   "metadata": {},
   "source": [
    "선형대수 연산 - 행렬 내적과 전치 행렬 구하기"
   ]
  },
  {
   "cell_type": "code",
   "execution_count": 103,
   "metadata": {},
   "outputs": [
    {
     "name": "stdout",
     "output_type": "stream",
     "text": [
      "[[ 58  64]\n",
      " [139 154]]\n"
     ]
    }
   ],
   "source": [
    "#행렬내적은 행렬의 곱\n",
    "A = np.array([[1,2,3],\n",
    "             [4,5,6]])\n",
    "B = np.array([[7,8],\n",
    "             [9,10],\n",
    "             [11,12]])\n",
    "\n",
    "dot_product = np.dot(A,B) #행렬의 곱을 구하는 함수 np.dot\n",
    "print(dot_product)"
   ]
  },
  {
   "cell_type": "code",
   "execution_count": 106,
   "metadata": {},
   "outputs": [
    {
     "name": "stdout",
     "output_type": "stream",
     "text": [
      "[[1 3]\n",
      " [2 4]]\n"
     ]
    }
   ],
   "source": [
    "#전치행렬은 행렬의 행\n",
    "A = np.array([[1,2],\n",
    "             [3,4]])\n",
    "transpose_mat = np.transpose(A)\n",
    "print(transpose_mat)"
   ]
  }
 ],
 "metadata": {
  "kernelspec": {
   "display_name": "Python 3",
   "language": "python",
   "name": "python3"
  },
  "language_info": {
   "codemirror_mode": {
    "name": "ipython",
    "version": 3
   },
   "file_extension": ".py",
   "mimetype": "text/x-python",
   "name": "python",
   "nbconvert_exporter": "python",
   "pygments_lexer": "ipython3",
   "version": "3.7.3"
  }
 },
 "nbformat": 4,
 "nbformat_minor": 2
}
